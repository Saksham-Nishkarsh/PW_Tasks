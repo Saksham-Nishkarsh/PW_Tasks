{
 "cells": [
  {
   "cell_type": "markdown",
   "id": "061c715e-d873-46fe-ba0c-e6bdbd208898",
   "metadata": {},
   "source": [
    "# Q1. You are writing code for a company. The requirement of the company is that you create a python function that will check whether the password entered by the user is correct or not. The function should take the password as input and return the string “Valid Password” if the entered password follows the below-given password guidelines else it should return “Invalid Password”.\n",
    "\n",
    "# Note: 1. The Password should contain at least two uppercase letters and at least two lowercase letters.\n",
    "# 2. The Password should contain at least a number and three special characters.\n",
    "# 3. The length of the password should be 10 characters long."
   ]
  },
  {
   "cell_type": "code",
   "execution_count": 1,
   "id": "1dd58510-e0d9-40b5-875f-f85bfdd8793d",
   "metadata": {},
   "outputs": [],
   "source": [
    "import re\n",
    "\n",
    "def check_password(password):\n",
    "    \n",
    "    if len(password) != 10:\n",
    "        return \"Invalid Password\"\n",
    "    \n",
    "    if sum( 1 for i in password if i.isupper()) <2:\n",
    "        return \"Invalid Password\"\n",
    "    \n",
    "    if sum( 1 for i in password if i.islower()) <2:\n",
    "        return \"Invalid Password\"\n",
    "    \n",
    "    if sum( 1 for i in password if i.isdigit()) <1:\n",
    "        return \"Invalid Password\"\n",
    "    \n",
    "    special_character = re.findall(r'[!@#$%^&*(),.?\":{}|<>]', password)\n",
    "    if len(special_character) <3:\n",
    "        return \"Invaild Password\"\n",
    "    \n",
    "    \n",
    "    return \"Valid Password\""
   ]
  },
  {
   "cell_type": "code",
   "execution_count": 2,
   "id": "deae0758-7e82-478e-80ac-9853f5b05b8c",
   "metadata": {},
   "outputs": [
    {
     "name": "stdin",
     "output_type": "stream",
     "text": [
      "Enter your password:  Saksham@123\n"
     ]
    },
    {
     "name": "stdout",
     "output_type": "stream",
     "text": [
      "Invalid Password\n"
     ]
    }
   ],
   "source": [
    "password = input(\"Enter your password: \")\n",
    "output = check_password(password)\n",
    "print(output)"
   ]
  },
  {
   "cell_type": "code",
   "execution_count": 7,
   "id": "c09a2995-bb63-4964-8182-f764f25f570c",
   "metadata": {},
   "outputs": [
    {
     "name": "stdin",
     "output_type": "stream",
     "text": [
      "Enter your password:  SAKsh@m1#$\n"
     ]
    },
    {
     "name": "stdout",
     "output_type": "stream",
     "text": [
      "Valid Password\n"
     ]
    }
   ],
   "source": [
    "password = input(\"Enter your password: \")\n",
    "output = check_password(password)\n",
    "print(output)"
   ]
  },
  {
   "cell_type": "markdown",
   "id": "d46a751b-5a08-4293-a60a-131e903b6a28",
   "metadata": {},
   "source": [
    "# Q2. Solve the below-given questions using at least one of the following:\n",
    "1. Lambda function\n",
    "2. Filter function\n",
    "3. Map function\n",
    "4. List Comprehension"
   ]
  },
  {
   "cell_type": "markdown",
   "id": "9abb36e1-ba3d-4e64-988a-14c3585cb21b",
   "metadata": {},
   "source": [
    "# Check if the string starts with a particular letter"
   ]
  },
  {
   "cell_type": "code",
   "execution_count": 4,
   "id": "1b9383f4-8ff1-4042-8513-30f1a4f7cc40",
   "metadata": {},
   "outputs": [
    {
     "name": "stdout",
     "output_type": "stream",
     "text": [
      "True\n"
     ]
    }
   ],
   "source": [
    "# Map\n",
    "result = bool(list(map(lambda x: x.startswith(\"I\"), [\"I am data scientist\"])))\n",
    "print(result)"
   ]
  },
  {
   "cell_type": "code",
   "execution_count": 5,
   "id": "a258655b-f473-4b5e-8873-77bbeacff8f6",
   "metadata": {},
   "outputs": [
    {
     "name": "stdout",
     "output_type": "stream",
     "text": [
      "True\n"
     ]
    }
   ],
   "source": [
    "# List comprehension\n",
    "result = any(x.startswith(\"I\") for x in [\"I am data scientist\"])\n",
    "print(result)"
   ]
  },
  {
   "cell_type": "markdown",
   "id": "494c27da-875d-4cde-a544-8d15002c904c",
   "metadata": {},
   "source": [
    "# Check if the string is numeric"
   ]
  },
  {
   "cell_type": "code",
   "execution_count": 7,
   "id": "09d2d4d1-ecf3-4705-9a9a-c30545ce9122",
   "metadata": {},
   "outputs": [
    {
     "name": "stdout",
     "output_type": "stream",
     "text": [
      "True\n"
     ]
    }
   ],
   "source": [
    "num = any(x.isdigit() for x in [\"8770689451\"])\n",
    "print(num)"
   ]
  },
  {
   "cell_type": "markdown",
   "id": "244ed24e-a6a1-46f6-a658-67c1813f9380",
   "metadata": {},
   "source": [
    "# Sort a list of tuples having fruit names and their quantity. \n",
    "[(\"mango\",99),(\"orange\",80), (\"grapes\", 1000)]"
   ]
  },
  {
   "cell_type": "code",
   "execution_count": 9,
   "id": "93973bfc-a79c-42f8-b49d-2147783f1634",
   "metadata": {},
   "outputs": [
    {
     "name": "stdout",
     "output_type": "stream",
     "text": [
      "[('orange', 80), ('mango', 99), ('grapes', 1000)]\n"
     ]
    }
   ],
   "source": [
    "fruits = [(\"mango\", 99), (\"orange\", 80), (\"grapes\", 1000)]\n",
    "sorted_fruits = sorted(fruits, key=lambda x: x[1])\n",
    "print(sorted_fruits)"
   ]
  },
  {
   "cell_type": "markdown",
   "id": "6298c26c-37ec-4e59-861d-10a2640dcc1a",
   "metadata": {},
   "source": [
    "# Find the squares of numbers from 1 to 10"
   ]
  },
  {
   "cell_type": "code",
   "execution_count": 11,
   "id": "6651cef0-a378-4a97-b3ed-1692bef0f8f9",
   "metadata": {},
   "outputs": [
    {
     "name": "stdout",
     "output_type": "stream",
     "text": [
      "[1, 4, 9, 16, 25, 36, 49, 64, 81, 100]\n"
     ]
    }
   ],
   "source": [
    "sq_root = [ x**2 for x in range(1,11)]\n",
    "print(sq_root)"
   ]
  },
  {
   "cell_type": "markdown",
   "id": "e7241c62-dfea-477e-8a73-1e3cc2ce4038",
   "metadata": {},
   "source": [
    "# Find the cube root of numbers from 1 to 10"
   ]
  },
  {
   "cell_type": "code",
   "execution_count": 12,
   "id": "eca3aacf-80bd-408b-a561-4bff3b3132d1",
   "metadata": {},
   "outputs": [
    {
     "data": {
      "text/plain": [
       "[1, 8, 27, 64, 125, 216, 343, 512, 729, 1000]"
      ]
     },
     "execution_count": 12,
     "metadata": {},
     "output_type": "execute_result"
    }
   ],
   "source": [
    "l = range(1,11)\n",
    "\n",
    "list(map(lambda x: x**3, l))"
   ]
  },
  {
   "cell_type": "markdown",
   "id": "b29757d6-2071-4907-9953-f3dcc5fce6c1",
   "metadata": {},
   "source": [
    "# Check if a given number is even"
   ]
  },
  {
   "cell_type": "code",
   "execution_count": 15,
   "id": "cff56fc9-c8dc-4a57-802e-dfa767efaa83",
   "metadata": {},
   "outputs": [
    {
     "name": "stdout",
     "output_type": "stream",
     "text": [
      "False\n"
     ]
    }
   ],
   "source": [
    "l = [8770689451]\n",
    "result = bool(list(filter(lambda x: x%2 == 0, l)))\n",
    "print(result)\n"
   ]
  },
  {
   "cell_type": "markdown",
   "id": "c2451259-03fa-4f65-a90e-e1cdd170871f",
   "metadata": {},
   "source": [
    "# Filter odd numbers from the given list.\n",
    "[1,2,3,4,5,6,7,8,9,10]"
   ]
  },
  {
   "cell_type": "code",
   "execution_count": 16,
   "id": "1002ab4b-5ee7-495d-9ea4-e2f123cb4ede",
   "metadata": {},
   "outputs": [
    {
     "data": {
      "text/plain": [
       "[1, 3, 5, 7, 9]"
      ]
     },
     "execution_count": 16,
     "metadata": {},
     "output_type": "execute_result"
    }
   ],
   "source": [
    "l = [1,2,3,4,5,6,7,8,9,10]\n",
    "list(filter(lambda x: x%2 != 0, l))"
   ]
  },
  {
   "cell_type": "markdown",
   "id": "28d4f5dc-870d-4371-82d7-94d49609ad6c",
   "metadata": {},
   "source": [
    "# Sort a list of integers into positive and negative integers lists.\n",
    "[1,2,3,4,5,6,-1,-2,-3,-4,-5,0]"
   ]
  },
  {
   "cell_type": "code",
   "execution_count": 17,
   "id": "cfff65a7-fae3-45f7-a0ad-43f5b2084f99",
   "metadata": {},
   "outputs": [
    {
     "data": {
      "text/plain": [
       "[-1, -2, -3, -4, -5]"
      ]
     },
     "execution_count": 17,
     "metadata": {},
     "output_type": "execute_result"
    }
   ],
   "source": [
    "l = [1,2,3,4,5,6,-1,-2,-3,-4,-5,0]\n",
    "list(filter(lambda x: x < 0, l))"
   ]
  },
  {
   "cell_type": "code",
   "execution_count": 19,
   "id": "df767a93-d2af-49a8-8c8f-7cb8a14b5d1f",
   "metadata": {},
   "outputs": [
    {
     "data": {
      "text/plain": [
       "[1, 2, 3, 4, 5, 6, 0]"
      ]
     },
     "execution_count": 19,
     "metadata": {},
     "output_type": "execute_result"
    }
   ],
   "source": [
    "l = [1,2,3,4,5,6,-1,-2,-3,-4,-5,0]\n",
    "list(filter(lambda x: x >= 0, l))"
   ]
  },
  {
   "cell_type": "code",
   "execution_count": null,
   "id": "4b5a7bd2-2b73-41c6-a712-860de175a196",
   "metadata": {},
   "outputs": [],
   "source": []
  }
 ],
 "metadata": {
  "kernelspec": {
   "display_name": "Python 3 (ipykernel)",
   "language": "python",
   "name": "python3"
  },
  "language_info": {
   "codemirror_mode": {
    "name": "ipython",
    "version": 3
   },
   "file_extension": ".py",
   "mimetype": "text/x-python",
   "name": "python",
   "nbconvert_exporter": "python",
   "pygments_lexer": "ipython3",
   "version": "3.10.8"
  }
 },
 "nbformat": 4,
 "nbformat_minor": 5
}
