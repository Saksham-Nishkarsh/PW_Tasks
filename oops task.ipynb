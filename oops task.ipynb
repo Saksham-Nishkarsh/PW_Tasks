{
 "cells": [
  {
   "cell_type": "markdown",
   "id": "c8c70c80-73bd-4102-9df3-c61e130df01a",
   "metadata": {},
   "source": [
    "# Q1, Create a vehicle class with an init method having instance variables as name_of_vehicle, max_speed and average_of_vehicle."
   ]
  },
  {
   "cell_type": "code",
   "execution_count": 1,
   "id": "90130e1f-e6bd-4aa4-8c55-e38efa157381",
   "metadata": {},
   "outputs": [],
   "source": [
    "class vehicle:\n",
    "    \n",
    "    def __init__(self, name_of_vehicle, max_speed, average_of_vehicle):\n",
    "        self.name_of_vehicle = name_of_vehicle\n",
    "        self.max_speed = max_speed\n",
    "        self.average_of_vehicle = average_of_vehicle\n",
    "        \n",
    "    def return_vehicle_details(self):\n",
    "        return self.name_of_vehicle, self.max_speed, self.average_of_vehicle"
   ]
  },
  {
   "cell_type": "code",
   "execution_count": 3,
   "id": "a02f5f22-0bad-4457-a636-a0ea287e6225",
   "metadata": {},
   "outputs": [],
   "source": [
    "car1 = vehicle(\"BMW\", 240, 180)"
   ]
  },
  {
   "cell_type": "code",
   "execution_count": 4,
   "id": "9a5b5309-2df1-4612-afd7-f209166d75d6",
   "metadata": {},
   "outputs": [
    {
     "data": {
      "text/plain": [
       "('BMW', 240, 180)"
      ]
     },
     "execution_count": 4,
     "metadata": {},
     "output_type": "execute_result"
    }
   ],
   "source": [
    "car1.return_vehicle_details()"
   ]
  },
  {
   "cell_type": "markdown",
   "id": "4b546d3e-1661-4a26-8f41-24e95e47db2a",
   "metadata": {},
   "source": [
    "# Q2. Create a child class car from the vehicle class created in Que 1, which will inherit the vehicle class. Create a method named seating_capacity which takes capacity as an argument and returns the name of the vehicle and its seating capacity."
   ]
  },
  {
   "cell_type": "code",
   "execution_count": 6,
   "id": "2a1f6cf1-a97e-4ab0-b6e5-821d8696a3fe",
   "metadata": {},
   "outputs": [],
   "source": [
    "class car(vehicle):\n",
    "    \n",
    "    def seating_capacity(self, capacity):\n",
    "        self.capacity = capacity\n",
    "        \n",
    "    def return_seating_capacity(self):\n",
    "        return self.name_of_vehicle, self.capacity\n"
   ]
  },
  {
   "cell_type": "code",
   "execution_count": 8,
   "id": "e6b44464-90eb-4f1d-add2-5330b396b4cf",
   "metadata": {},
   "outputs": [
    {
     "name": "stdout",
     "output_type": "stream",
     "text": [
      "(5, 'Mercedes')\n"
     ]
    }
   ],
   "source": [
    "car2 = car(\"Mercedes\", 200, 150)\n",
    "car2.seating_capacity(5)\n",
    "print(car2.return_seating_capacity())\n"
   ]
  },
  {
   "cell_type": "markdown",
   "id": "c7162cc6-6c74-4d7f-99db-819a1fe3c6d6",
   "metadata": {},
   "source": [
    "# Q3. What is multiple inheritance? Write a python code to demonstrate multiple inheritance."
   ]
  },
  {
   "cell_type": "code",
   "execution_count": 9,
   "id": "a4774be3-f301-469b-baee-ab6f121f0a34",
   "metadata": {},
   "outputs": [
    {
     "name": "stdout",
     "output_type": "stream",
     "text": [
      "Mammal speaks\n"
     ]
    }
   ],
   "source": [
    "''' \n",
    "Multiple inheritance is a feature in object-oriented programming where a class can inherit characteristics and behavior from multiple parent classes. This means that a child class can inherit attributes and methods from more than one parent class.'''\n",
    "\n",
    "\n",
    "class Animal:\n",
    "    def __init__(self, name):\n",
    "        self.name = name\n",
    "    \n",
    "    def speak(self):\n",
    "        pass\n",
    "\n",
    "\n",
    "class Mammal(Animal):\n",
    "    def speak(self):\n",
    "        return \"Mammal speaks\"\n",
    "\n",
    "\n",
    "class Bird(Animal):\n",
    "    def speak(self):\n",
    "        return \"Bird speaks\"\n",
    "\n",
    "\n",
    "class Platypus(Mammal, Bird):\n",
    "    pass\n",
    "\n",
    "\n",
    "perry = Platypus(\"Perry\")\n",
    "print(perry.speak())\n"
   ]
  },
  {
   "cell_type": "markdown",
   "id": "386c0e86-cee6-40ce-8752-8e123102dae9",
   "metadata": {},
   "source": [
    "# Q4. What are getter and setter in python? Create a class and create a getter and a setter method in this class."
   ]
  },
  {
   "cell_type": "code",
   "execution_count": 10,
   "id": "87c78611-bdd3-4a06-920c-ea89d9a91b7e",
   "metadata": {},
   "outputs": [],
   "source": [
    "''' \n",
    "In Python, getters and setters are methods used to access and modify the values of class attributes, providing a controlled way to retrieve and update the values of an object's properties. They are commonly used to enforce data encapsulation and ensure proper handling of attribute access.'''\n",
    "\n",
    "class Person:\n",
    "    def __init__(self, name):\n",
    "        self._name = name\n",
    "\n",
    "    def get_name(self):\n",
    "        return self._name\n",
    "\n",
    "    def set_name(self, new_name):\n",
    "        self._name = new_name\n"
   ]
  },
  {
   "cell_type": "code",
   "execution_count": 12,
   "id": "0a75d564-14d2-497a-ae52-df64c7b7cd79",
   "metadata": {},
   "outputs": [
    {
     "name": "stdout",
     "output_type": "stream",
     "text": [
      "John\n",
      "Mike\n"
     ]
    }
   ],
   "source": [
    "person = Person(\"John\")\n",
    "print(person.get_name()) \n",
    "\n",
    "person.set_name(\"Mike\")\n",
    "print(person.get_name())  \n"
   ]
  },
  {
   "cell_type": "markdown",
   "id": "b36575df-2545-4585-ae4a-f7aa9459c3e9",
   "metadata": {},
   "source": [
    "# Q5.What is method overriding in python? Write a python code to demonstrate method overriding."
   ]
  },
  {
   "cell_type": "code",
   "execution_count": 14,
   "id": "1d54254b-e6e5-467d-aca1-982e903e48a3",
   "metadata": {},
   "outputs": [
    {
     "name": "stdout",
     "output_type": "stream",
     "text": [
      "Animal make sound\n",
      "Dog barks\n"
     ]
    }
   ],
   "source": [
    "''' Method overriding is a feature in object-oriented programming where a subclass provides its own implementation of a method that is already defined in its parent class. By overriding a method, the subclass can modify or extend the behavior of the inherited method.'''\n",
    "\n",
    "class Animal:\n",
    "    def make_sound(self):\n",
    "        print(\"Animal make sound\")\n",
    "        \n",
    "        \n",
    "\n",
    "class Dog(Animal):\n",
    "    def make_sound(self):\n",
    "        print(\"Dog barks\")\n",
    "        \n",
    "        \n",
    "        \n",
    "animal = Animal()\n",
    "animal.make_sound()\n",
    "\n",
    "\n",
    "dog = Dog()\n",
    "dog.make_sound()"
   ]
  },
  {
   "cell_type": "code",
   "execution_count": null,
   "id": "0b6d5b67-c797-4475-8992-28fc8c018b6e",
   "metadata": {},
   "outputs": [],
   "source": []
  }
 ],
 "metadata": {
  "kernelspec": {
   "display_name": "Python 3 (ipykernel)",
   "language": "python",
   "name": "python3"
  },
  "language_info": {
   "codemirror_mode": {
    "name": "ipython",
    "version": 3
   },
   "file_extension": ".py",
   "mimetype": "text/x-python",
   "name": "python",
   "nbconvert_exporter": "python",
   "pygments_lexer": "ipython3",
   "version": "3.10.8"
  }
 },
 "nbformat": 4,
 "nbformat_minor": 5
}
