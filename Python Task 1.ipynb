{
 "cells": [
  {
   "cell_type": "markdown",
   "id": "0112d9f5-9c55-4b6f-8bf9-5db9d70df378",
   "metadata": {},
   "source": [
    "# Q1. Create a function which will take a list as an argument and return the product of all the numbers after creating a flat list. Use the below-given list as an argument for your function.\n",
    "# list1 = [1,2,3,4, [44,55,66, True], False, (34,56,78,89,34), {1,2,3,3,2,1}, {1:34, \"key2\": [55, 67, 78, 89], 4: (45, 22, 61, 34)}, [56, 'data science'], 'Machine Learning']\n",
    "# Note: you must extract numeric keys and values of the dictionary also."
   ]
  },
  {
   "cell_type": "code",
   "execution_count": 38,
   "id": "fbdbe8d1-93d5-4d85-8f57-2086394d6aa7",
   "metadata": {},
   "outputs": [
    {
     "name": "stdout",
     "output_type": "stream",
     "text": [
      "[1, 1, 2, 3, 4, 44, 55, 66, True, False, 34, 56, 78, 89, 34, 1, 2, 3, 1, 34, 55, 67, 78, 89, 4, 45, 22, 61, 34, 56]\n",
      "4134711838987085478833841242112000\n"
     ]
    }
   ],
   "source": [
    "list1 = [1, 2, 3, 4, [44, 55, 66, True], False, (34, 56, 78, 89, 34), {1, 2, 3, 3, 2, 1},\n",
    "         {1: 34, \"key2\": [55, 67, 78, 89], 4: (45, 22, 61, 34)}, [56, 'data science'], 'Machine Learning']\n",
    "\n",
    "def test1(list1):\n",
    "    l = [1]  # Initialize with value 1 instead of an empty list\n",
    "    for i in list1:\n",
    "        if isinstance(i, int):\n",
    "            l.append(i)\n",
    "        elif isinstance(i, list):\n",
    "            for j in i:\n",
    "                if isinstance(j, int):\n",
    "                    l.append(j)\n",
    "        elif isinstance(i, tuple):\n",
    "            for k in i:\n",
    "                l.append(k)\n",
    "        elif isinstance(i, set):\n",
    "            for m in i:\n",
    "                l.append(m)\n",
    "        elif isinstance(i, dict):\n",
    "            for key, value in i.items():\n",
    "                if isinstance(key, int):\n",
    "                    l.append(key)\n",
    "                if isinstance(value, int):\n",
    "                    l.append(value)\n",
    "                elif isinstance(value, list):\n",
    "                    for z in value:\n",
    "                        l.append(z)\n",
    "                elif isinstance(value, tuple):\n",
    "                    for x in value:\n",
    "                        l.append(x)\n",
    "    s = [x for x in l if not isinstance(x, bool)]                     \n",
    "    print(l)\n",
    "    \n",
    "    product = 1\n",
    "\n",
    "    for num in s:\n",
    "        product *= num\n",
    "    \n",
    "    return product\n",
    "\n",
    "result = test1(list1)\n",
    "print(result)\n"
   ]
  },
  {
   "cell_type": "markdown",
   "id": "f2d4cebc-3b25-4167-998b-e5927772b10c",
   "metadata": {},
   "source": [
    "# Q2. Write a python program for encrypting a message sent to you by your friend. The logic of encryption should be such that, for a the output should be z. For b, the output should be y. For c, the output should be x respectively. Also, the whitespace should be replaced with a dollar sign. Keep the punctuation marks unchanged.\n",
    "\n",
    "# Input Sentence: I want to become a Data Scientist.\n",
    "\n",
    "# Encrypt the above input sentence using the program you just created.\n",
    "\n",
    "# Note: Convert the given input sentence into lowercase before encrypting. The final output should be lowercase.\n"
   ]
  },
  {
   "cell_type": "code",
   "execution_count": 45,
   "id": "b6dd9efa-adef-4881-9cac-e96e41a0f1da",
   "metadata": {},
   "outputs": [
    {
     "data": {
      "text/plain": [
       "'i want to become a data scientist.'"
      ]
     },
     "execution_count": 45,
     "metadata": {},
     "output_type": "execute_result"
    }
   ],
   "source": [
    "s = \"I want to become a Data Scientist.\"\n",
    "a = str.lower(s)\n",
    "a\n"
   ]
  },
  {
   "cell_type": "code",
   "execution_count": 53,
   "id": "0ca01cec-2711-4aec-95cd-1d8bdcebd3fa",
   "metadata": {},
   "outputs": [
    {
     "name": "stdout",
     "output_type": "stream",
     "text": [
      "r$dzmg$gl$yvxlnv$z$wzgz$hxrvmgrhg.\n"
     ]
    }
   ],
   "source": [
    "message = \"I want to become a Data Scientist.\"\n",
    "\n",
    "encrypted_message = \"\"\n",
    "for char in message.lower():\n",
    "    if char == \"a\":\n",
    "        encrypted_message += \"z\"\n",
    "    elif char == \"b\":\n",
    "        encrypted_message += \"y\"\n",
    "    elif char == \"c\":\n",
    "        encrypted_message += \"x\"\n",
    "    elif char == \"d\":\n",
    "        encrypted_message += \"w\"\n",
    "    elif char == \"e\":\n",
    "        encrypted_message += \"v\"\n",
    "    elif char == \"f\":\n",
    "        encrypted_message += \"u\"\n",
    "    elif char == \"g\":\n",
    "        encrypted_message += \"t\"\n",
    "    elif char == \"h\":\n",
    "        encrypted_message += \"s\"\n",
    "    elif char == \"i\":\n",
    "        encrypted_message += \"r\"\n",
    "    elif char == \"j\":\n",
    "        encrypted_message += \"q\"\n",
    "    elif char == \"k\":\n",
    "        encrypted_message += \"p\"\n",
    "    elif char == \"l\":\n",
    "        encrypted_message += \"o\"\n",
    "    elif char == \"m\":\n",
    "        encrypted_message += \"n\"\n",
    "    elif char == \"n\":\n",
    "        encrypted_message += \"m\"\n",
    "    elif char == \"o\":\n",
    "        encrypted_message += \"l\"\n",
    "    elif char == \"p\":\n",
    "        encrypted_message += \"k\"\n",
    "    elif char == \"q\":\n",
    "        encrypted_message += \"j\"\n",
    "    elif char == \"r\":\n",
    "        encrypted_message += \"i\"\n",
    "    elif char == \"s\":\n",
    "        encrypted_message += \"h\"\n",
    "    elif char == \"t\":\n",
    "        encrypted_message += \"g\"\n",
    "    elif char == \"u\":\n",
    "        encrypted_message += \"f\"\n",
    "    elif char == \"v\":\n",
    "        encrypted_message += \"e\"\n",
    "    elif char == \"w\":\n",
    "        encrypted_message += \"d\"\n",
    "    elif char == \"x\":\n",
    "        encrypted_message += \"c\"\n",
    "    elif char == \"y\":\n",
    "        encrypted_message += \"b\"\n",
    "    elif char == \"z\":\n",
    "        encrypted_message += \"a\"\n",
    "    elif char == \" \":\n",
    "        encrypted_message += \"$\"\n",
    "    else:\n",
    "        encrypted_message += char\n",
    "\n",
    "print(encrypted_message)\n"
   ]
  },
  {
   "cell_type": "code",
   "execution_count": 54,
   "id": "81dbfb8c-2a42-401b-bb76-7bc16a93b7c6",
   "metadata": {},
   "outputs": [
    {
     "data": {
      "text/plain": [
       "'i want to become a data scientist.'"
      ]
     },
     "execution_count": 54,
     "metadata": {},
     "output_type": "execute_result"
    }
   ],
   "source": [
    "a "
   ]
  },
  {
   "cell_type": "code",
   "execution_count": null,
   "id": "7c737708-b4f6-49aa-8de6-ca93da1779d8",
   "metadata": {},
   "outputs": [],
   "source": []
  }
 ],
 "metadata": {
  "kernelspec": {
   "display_name": "Python 3 (ipykernel)",
   "language": "python",
   "name": "python3"
  },
  "language_info": {
   "codemirror_mode": {
    "name": "ipython",
    "version": 3
   },
   "file_extension": ".py",
   "mimetype": "text/x-python",
   "name": "python",
   "nbconvert_exporter": "python",
   "pygments_lexer": "ipython3",
   "version": "3.10.8"
  }
 },
 "nbformat": 4,
 "nbformat_minor": 5
}
